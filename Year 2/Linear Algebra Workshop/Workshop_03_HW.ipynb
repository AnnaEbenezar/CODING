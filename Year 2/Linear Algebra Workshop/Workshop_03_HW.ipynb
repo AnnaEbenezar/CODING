{
 "cells": [
  {
   "cell_type": "code",
   "execution_count": 1,
   "id": "c913dfe0",
   "metadata": {},
   "outputs": [],
   "source": [
    "import numpy as np"
   ]
  },
  {
   "cell_type": "code",
   "execution_count": 2,
   "id": "c2e390d8",
   "metadata": {},
   "outputs": [],
   "source": [
    "def mat_randint(s):\n",
    "    return np.random.randint(low = 1, high = 9, size = (s,s))"
   ]
  },
  {
   "cell_type": "code",
   "execution_count": 3,
   "id": "c418afc8",
   "metadata": {},
   "outputs": [],
   "source": [
    "def mat_elim(A):\n",
    "    operation = np.eye(3)\n",
    "    E21 = np.eye(3)\n",
    "    E31 = np.eye(3)\n",
    "    E32 = np.eye(3)\n",
    "    \n",
    "    P23 = np.array([[1,0,0],[0,0,1],[0,1,0]])\n",
    "    \n",
    "    E21[1][0] = (-1) * (A[1][0]/A[0][0])\n",
    "    operation = E21 @ operation\n",
    "    A = E21 @ A\n",
    "    \n",
    "    if(A[1][1] == 0):\n",
    "        operation = P23 @ operation\n",
    "        A = P23 @ A\n",
    "        E21[1][0] = -1 * (A[1][0]/A[0][0])\n",
    "        operation = E21 @ operation\n",
    "        A = E21 @ A\n",
    "        \n",
    "        if(A[1][1] == 0):\n",
    "            return -1\n",
    "        \n",
    "        else:\n",
    "            if(A[2][2] == 0):\n",
    "                if(A[1][2] != 0):\n",
    "                    operation = P23 @ operation\n",
    "                    A = P23 @ A\n",
    "                    E32[2][1] = A[2][1]/A[1][1] * -1\n",
    "                    \n",
    "                    for i in range(3):\n",
    "                        operation[2][i] = (operation[1][i] * E32[2][1]) + operation[2][i]\n",
    "                    \n",
    "                    if(A[1][1] == 0):\n",
    "                        return -1\n",
    "                    else:\n",
    "                        return operation;\n",
    "            else:\n",
    "                E32[2][1] = A[2][1]/A[1][1] * -1\n",
    "\n",
    "                for i in range(3):\n",
    "                    operation[2][i] = (operation[1][i] * E32[2][1]) + operation[2][i]\n",
    "\n",
    "                if(A[2][2] != 0):\n",
    "                    return operation\n",
    "                else:\n",
    "                    return -1\n",
    "    else:\n",
    "        E31[2][0] = -1 * A[2][0]/A[0][0]\n",
    "        operation = E31 @ operation\n",
    "        A = E31 @ A\n",
    "        \n",
    "        if(A[2][2] == 0):\n",
    "            if(A[1][2] != 0):\n",
    "                operation = P23 @ operation\n",
    "                A = P23 @ A\n",
    "                E32[2][1] = A[2][1]/A[1][1] * -1\n",
    "                \n",
    "                for i in range(3):\n",
    "                    operation[2][i] = (operation[1][i] * E32[2][1]) + operation[2][i]\n",
    "                \n",
    "                if(A[1][1] == 0):\n",
    "                    return -1\n",
    "                else:\n",
    "                    if(A[2][2] != 0):\n",
    "                        return operation\n",
    "                    else:\n",
    "                        return -1\n",
    "        else:\n",
    "            E32[2][1] = A[2][1]/A[1][1] * -1\n",
    "            \n",
    "            for i in range(3):\n",
    "                operation[2][i] = (operation[1][i] * E32[2][1]) + operation[2][i]\n",
    "            \n",
    "            if(A[2][2] != 0):\n",
    "                return operation\n",
    "            else:\n",
    "                return -1"
   ]
  },
  {
   "cell_type": "code",
   "execution_count": 4,
   "id": "7e165cc8",
   "metadata": {},
   "outputs": [
    {
     "name": "stdout",
     "output_type": "stream",
     "text": [
      "A: \n",
      "[[1 1 8]\n",
      " [5 1 3]\n",
      " [7 6 6]]\n"
     ]
    }
   ],
   "source": [
    "A = np.array([[1, 1, 8], [5, 1, 3], [7, 6, 6]])\n",
    "print(\"A: \")\n",
    "print(A)"
   ]
  },
  {
   "cell_type": "code",
   "execution_count": 5,
   "id": "12d48dd7",
   "metadata": {},
   "outputs": [
    {
     "name": "stdout",
     "output_type": "stream",
     "text": [
      "E: \n",
      "[[ 1.    0.    0.  ]\n",
      " [-5.    1.    0.  ]\n",
      " [-5.75 -0.25  1.  ]]\n"
     ]
    }
   ],
   "source": [
    "E1 = mat_elim(A)\n",
    "print(\"E: \")\n",
    "print(E1)"
   ]
  },
  {
   "cell_type": "code",
   "execution_count": 7,
   "id": "c13bd6a1",
   "metadata": {},
   "outputs": [
    {
     "name": "stdout",
     "output_type": "stream",
     "text": [
      "EA: \n",
      "[[  1.     1.     8.  ]\n",
      " [  0.    -4.   -37.  ]\n",
      " [  0.     0.   -40.75]]\n"
     ]
    }
   ],
   "source": [
    "print(\"EA: \")\n",
    "print(np.around(E1 @ A, 3))"
   ]
  },
  {
   "cell_type": "code",
   "execution_count": 9,
   "id": "c92d03ba",
   "metadata": {},
   "outputs": [
    {
     "name": "stdout",
     "output_type": "stream",
     "text": [
      "B: \n",
      "[[4 2 3]\n",
      " [6 1 1]\n",
      " [5 3 5]]\n",
      "E: \n",
      "[[ 1.     0.     0.   ]\n",
      " [-1.5    1.     0.   ]\n",
      " [-1.625  0.25   1.   ]]\n",
      "EB: \n",
      "[[ 4.     2.     3.   ]\n",
      " [ 0.    -2.    -3.5  ]\n",
      " [ 0.     0.     0.375]]\n"
     ]
    }
   ],
   "source": [
    "B = mat_randint(3)\n",
    "print(\"B: \")\n",
    "print(B)\n",
    "\n",
    "E2 = mat_elim(B)\n",
    "print(\"E: \")\n",
    "print(E2)\n",
    "\n",
    "print(\"EB: \")\n",
    "print(np.around(E2 @ B, 3))"
   ]
  }
 ],
 "metadata": {
  "kernelspec": {
   "display_name": "Python 3 (ipykernel)",
   "language": "python",
   "name": "python3"
  },
  "language_info": {
   "codemirror_mode": {
    "name": "ipython",
    "version": 3
   },
   "file_extension": ".py",
   "mimetype": "text/x-python",
   "name": "python",
   "nbconvert_exporter": "python",
   "pygments_lexer": "ipython3",
   "version": "3.11.0"
  }
 },
 "nbformat": 4,
 "nbformat_minor": 5
}
